{
  "nbformat": 4,
  "nbformat_minor": 0,
  "metadata": {
    "colab": {
      "provenance": [],
      "gpuType": "T4",
      "mount_file_id": "11zfPja-xk3O8xCdu97B4Fu0udOxP_rSG",
      "authorship_tag": "ABX9TyNeLzSYwZcRbDMBweZ0hm13",
      "include_colab_link": true
    },
    "kernelspec": {
      "name": "python3",
      "display_name": "Python 3"
    },
    "language_info": {
      "name": "python"
    },
    "accelerator": "GPU"
  },
  "cells": [
    {
      "cell_type": "markdown",
      "metadata": {
        "id": "view-in-github",
        "colab_type": "text"
      },
      "source": [
        "<a href=\"https://colab.research.google.com/github/Pavan-Satyam/Animal/blob/main/Untitled11.ipynb\" target=\"_parent\"><img src=\"https://colab.research.google.com/assets/colab-badge.svg\" alt=\"Open In Colab\"/></a>"
      ]
    },
    {
      "cell_type": "code",
      "execution_count": 1,
      "metadata": {
        "colab": {
          "base_uri": "https://localhost:8080/"
        },
        "id": "DYwNEkUFigme",
        "outputId": "954ea2a3-fe1e-4ae2-840f-ef0c3cb03bdb"
      },
      "outputs": [
        {
          "output_type": "stream",
          "name": "stdout",
          "text": [
            "Cloning into 'multi-camera-pig-tracking'...\n",
            "remote: Enumerating objects: 829, done.\u001b[K\n",
            "remote: Counting objects: 100% (86/86), done.\u001b[K\n",
            "remote: Compressing objects: 100% (50/50), done.\u001b[K\n",
            "remote: Total 829 (delta 36), reused 85 (delta 35), pack-reused 743\u001b[K\n",
            "Receiving objects: 100% (829/829), 85.99 MiB | 34.26 MiB/s, done.\n",
            "Resolving deltas: 100% (136/136), done.\n"
          ]
        }
      ],
      "source": [
        "!git clone https://github.com/AIFARMS/multi-camera-pig-tracking.git\n"
      ]
    },
    {
      "cell_type": "code",
      "source": [
        "!ls"
      ],
      "metadata": {
        "colab": {
          "base_uri": "https://localhost:8080/"
        },
        "id": "imr1uwTEkEXt",
        "outputId": "29315bc1-1752-4220-8607-79f02a95fedd"
      },
      "execution_count": 2,
      "outputs": [
        {
          "output_type": "stream",
          "name": "stdout",
          "text": [
            "drive  multi-camera-pig-tracking  sample_data\n"
          ]
        }
      ]
    },
    {
      "cell_type": "code",
      "source": [
        "!cd /content/multi-camera-pig-tracking/deepsort-tracking/darknet && \\\n",
        "rm -r data && \\\n",
        "ls\n",
        "\n"
      ],
      "metadata": {
        "colab": {
          "base_uri": "https://localhost:8080/"
        },
        "id": "sgLRUrwFkO9N",
        "outputId": "412cbb77-351c-4173-b609-e22e8f63e712"
      },
      "execution_count": 20,
      "outputs": [
        {
          "output_type": "stream",
          "name": "stdout",
          "text": [
            "rm: cannot remove 'data': No such file or directory\n"
          ]
        }
      ]
    },
    {
      "cell_type": "code",
      "source": [
        "!mv /content/multi-camera-pig-tracking/deepsort-tracking/yolov4/data /content/multi-camera-pig-tracking/deepsort-tracking/darknet/\n",
        "\n"
      ],
      "metadata": {
        "colab": {
          "base_uri": "https://localhost:8080/"
        },
        "id": "F_202BgFkSf9",
        "outputId": "1cc5a067-c283-450b-c581-722e3c00900d"
      },
      "execution_count": 26,
      "outputs": [
        {
          "output_type": "stream",
          "name": "stdout",
          "text": [
            "mv: cannot stat '/content/multi-camera-pig-tracking/deepsort-tracking/yolov4/data': No such file or directory\n"
          ]
        }
      ]
    },
    {
      "cell_type": "code",
      "source": [
        "!python /content/multi-camera-pig-tracking/deepsort-tracking/darknet/data/convert_pig_to_yolo.py"
      ],
      "metadata": {
        "colab": {
          "base_uri": "https://localhost:8080/"
        },
        "id": "Lytwxtz5kTqC",
        "outputId": "a32eeb8f-04ec-45c5-a9c9-e485d35fb737"
      },
      "execution_count": 28,
      "outputs": [
        {
          "output_type": "stream",
          "name": "stdout",
          "text": [
            "\r  0% 0/381 [00:00<?, ?it/s]False\n",
            "[ WARN:0@0.031] global loadsave.cpp:248 findDecoder imread_('./Ceiling_Cam/2020-11-21/12-16/Ceiling_Cam-2020-11-21-12-16-0.jpg'): can't open/read file: check file path/integrity\n",
            "\r  0% 0/381 [00:00<?, ?it/s]\n",
            "Traceback (most recent call last):\n",
            "  File \"/content/multi-camera-pig-tracking/deepsort-tracking/darknet/data/convert_pig_to_yolo.py\", line 24, in <module>\n",
            "    height, width, channels = img.shape\n",
            "AttributeError: 'NoneType' object has no attribute 'shape'\n"
          ]
        }
      ]
    },
    {
      "cell_type": "code",
      "source": [],
      "metadata": {
        "id": "Yo2UN48goAnX"
      },
      "execution_count": 27,
      "outputs": []
    }
  ]
}